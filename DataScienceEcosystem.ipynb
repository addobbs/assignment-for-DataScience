{
  "metadata": {
    "kernelspec": {
      "name": "python",
      "display_name": "Python (Pyodide)",
      "language": "python"
    },
    "language_info": {
      "codemirror_mode": {
        "name": "python",
        "version": 3
      },
      "file_extension": ".py",
      "mimetype": "text/x-python",
      "name": "python",
      "nbconvert_exporter": "python",
      "pygments_lexer": "ipython3",
      "version": "3.8"
    }
  },
  "nbformat_minor": 4,
  "nbformat": 4,
  "cells": [
    {
      "cell_type": "markdown",
      "source": "# Data Science Tools and Ecosystem",
      "metadata": {}
    },
    {
      "cell_type": "markdown",
      "source": "> In this notebook, Data Science Tools and Ecosystem are summarized",
      "metadata": {}
    },
    {
      "cell_type": "markdown",
      "source": "<b>Objectives:<b>\n<ul>\n    <li>Demontrate an understanding of using Markdown as a tool</li>\n    <li>Demontrate an understanding of using basic code</li>\n    <li>Review imporant some of the popular data scinece languges</li>\n    <li>Review a few popular data science libraries</li>\n</ul>",
      "metadata": {}
    },
    {
      "cell_type": "markdown",
      "source": "Some of the commonly used libraries used by Data Scientists include:\n<ul>\n    <li>Seaborn</li>\n    <li>Matplotlib</li>\n    <li>Pandas</li>\n</ul>",
      "metadata": {}
    },
    {
      "cell_type": "markdown",
      "source": "<table style=\"width:50%\">\n    <tr>\n        <th>Data Science Tools</th>\n    </tr>\n    <tr>\n        <td>IBM SPSS</td>\n    </tr>\n    <tr>\n        <td>Julia</td>\n    </tr>\n    <tr>\n        <td>Jupyter Notebook</td>\n    </tr>\n</table>",
      "metadata": {}
    },
    {
      "cell_type": "markdown",
      "source": "### Below are a few examples of evaluating arithmetic expressions in Python",
      "metadata": {}
    },
    {
      "cell_type": "markdown",
      "source": "> I could not figure out how to do this step in the code line, so here it is using markdown. Just like when handwriting math, you need to remember to ensure to follow the order of operations. As you can see here the first step in this equation is 3*4, then +5",
      "metadata": {}
    },
    {
      "cell_type": "code",
      "source": "print ((3*4)+5)",
      "metadata": {
        "trusted": true
      },
      "outputs": [
        {
          "name": "stdout",
          "text": "17\n",
          "output_type": "stream"
        }
      ],
      "execution_count": 1
    },
    {
      "cell_type": "code",
      "source": "min=200\nh=min//60\nm=min%60\nprint (\"Hours=\",h)\nprint (\"Minutes=\",m)",
      "metadata": {
        "trusted": true
      },
      "outputs": [
        {
          "name": "stdout",
          "text": "Hours= 3\nMinutes= 20\n",
          "output_type": "stream"
        }
      ],
      "execution_count": 2
    },
    {
      "cell_type": "markdown",
      "source": "## Author\nAngela Dobbs",
      "metadata": {}
    },
    {
      "cell_type": "code",
      "source": "",
      "metadata": {
        "trusted": true
      },
      "outputs": [],
      "execution_count": null
    }
  ]
}